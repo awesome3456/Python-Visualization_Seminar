{
 "cells": [
  {
   "cell_type": "code",
   "execution_count": 7,
   "id": "695cbf14-e232-4ec4-816b-44a17b407c0f",
   "metadata": {},
   "outputs": [],
   "source": [
    "import numpy as np\n",
    "import matplotlib.pyplot as plt\n",
    "from mpl_toolkits.axes_grid1 import ImageGrid\n",
    "from matplotlib.cbook import get_sample_data"
   ]
  },
  {
   "cell_type": "code",
   "execution_count": 8,
   "id": "fdeadd25-02fa-4ee7-894e-53e02c1e8f41",
   "metadata": {},
   "outputs": [
    {
     "data": {
      "image/png": "[encoded data removed]",
      "text/plain": [
       "<Figure size 800x600 with 6 Axes>"
      ]
     },
     "metadata": {},
     "output_type": "display_data"
    }
   ],
   "source": [
    "def get_demo_image():\n",
    "    f = get_sample_data(\"axes_grid/bivariate_normal.npy\", asfileobj=False)\n",
    "    # z is a numpy array of 15x15\n",
    "    Z = np.load(f)\n",
    "    return Z, (-3, 4, -4, 3)\n",
    "\n",
    "\n",
    "def get_grid(fig=None, layout=None, nrows_ncols=None):\n",
    "    assert fig is not None\n",
    "    assert layout is not None\n",
    "    assert nrows_ncols is not None\n",
    "\n",
    "    grid = ImageGrid(fig, layout, nrows_ncols=nrows_ncols,\n",
    "                    axes_pad=0.05, label_mode=\"L\")\n",
    "    return grid\n",
    "\n",
    "\n",
    "def load_images_to_grid(grid, Z, *images):\n",
    "    min, max = Z.min(), Z.max()\n",
    "    for i, image in enumerate(images):\n",
    "        axes = grid[i]\n",
    "        axes.imshow(image, origin=\"lower\", vmin=min, vmax=max,\n",
    "                  interpolation=\"nearest\")\n",
    "\n",
    "if __name__ == \"__main__\":\n",
    "    fig = plt.figure(1, (8, 6))\n",
    "    grid = get_grid(fig, 111, (1, 3))\n",
    "    Z, extent = get_demo_image()\n",
    "\n",
    "    # Slice image\n",
    "    image1 = Z\n",
    "    image2 = Z[:, :10]\n",
    "    image3 = Z[:, 10:]\n",
    "\n",
    "    load_images_to_grid(grid, Z, image1, image2, image3)\n",
    "\n",
    "    plt.draw()\n",
    "    plt.show()\n"
   ]
  },
  {
   "cell_type": "code",
   "execution_count": null,
   "id": "1492aa98-b194-453f-a148-3cd79ef2605e",
   "metadata": {},
   "outputs": [],
   "source": []
  }
 ],
 "metadata": {
  "kernelspec": {
   "display_name": "Python 3 (ipykernel)",
   "language": "python",
   "name": "python3"
  },
  "language_info": {
   "codemirror_mode": {
    "name": "ipython",
    "version": 3
   },
   "file_extension": ".py",
   "mimetype": "text/x-python",
   "name": "python",
   "nbconvert_exporter": "python",
   "pygments_lexer": "ipython3",
   "version": "3.11.7"
  }
 },
 "nbformat": 4,
 "nbformat_minor": 5
}
