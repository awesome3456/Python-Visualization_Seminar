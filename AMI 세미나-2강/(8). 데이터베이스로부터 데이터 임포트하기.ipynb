{
 "cells": [
  {
   "cell_type": "code",
   "execution_count": 1,
   "id": "f73c48a1-02aa-4095-bcdc-31b6dab2287f",
   "metadata": {},
   "outputs": [
    {
     "ename": "SyntaxError",
     "evalue": "Missing parentheses in call to 'print'. Did you mean print(...)? (2720852587.py, line 5)",
     "output_type": "error",
     "traceback": [
      "\u001b[1;36m  Cell \u001b[1;32mIn[1], line 5\u001b[1;36m\u001b[0m\n\u001b[1;33m    print \"Error: You must supply at least SQL script.\"\u001b[0m\n\u001b[1;37m    ^\u001b[0m\n\u001b[1;31mSyntaxError\u001b[0m\u001b[1;31m:\u001b[0m Missing parentheses in call to 'print'. Did you mean print(...)?\n"
     ]
    }
   ],
   "source": [
    "# SELECT ID, Name, Population FROM City ORDER BY Population DESC LIMIT 1000\n",
    "\n",
    "import sqlite3\n",
    "import sys\n",
    "\n",
    "# Jupyter Notebook에서 실행 중인지 확인\n",
    "if 'ipykernel' in sys.modules:\n",
    "    # Jupyter Notebook에서는 스크립트 이름이 '-f'로 설정될 수 있음\n",
    "    script_path = 'script.sql'\n",
    "else:\n",
    "    # 일반적인 Python 스크립트 실행 시\n",
    "    if len(sys.argv) < 2:\n",
    "        print(\"Error: You must supply at least an SQL script.\")\n",
    "        print(\"Usage: python script.py table.db ./ sql-dump.sql\")\n",
    "        sys.exit(1)\n",
    "    script_path = sys.argv[1]\n",
    "\n",
    "if len(sys.argv) == 3:\n",
    "    db = sys.argv[2]\n",
    "else:\n",
    "    db = \":memory:\"\n",
    "    \n",
    "try:\n",
    "    con = sqlite3.connect(db)\n",
    "    with con:\n",
    "        cur = con.cursor()\n",
    "        with open(script_path, 'rb') as f:\n",
    "            cur.executescript(f.read())\n",
    "except sqlite3.Error as err:\n",
    "    print(\"Error occurred: %s\" % err)\n"
   ]
  },
  {
   "cell_type": "code",
   "execution_count": null,
   "id": "bb6c28d4-52c5-4ec0-a7cc-41539f46a1f2",
   "metadata": {},
   "outputs": [],
   "source": []
  },
  {
   "cell_type": "code",
   "execution_count": null,
   "id": "766d0b44-11c3-4480-9185-b045168396c9",
   "metadata": {},
   "outputs": [],
   "source": []
  }
 ],
 "metadata": {
  "kernelspec": {
   "display_name": "Python 3 (ipykernel)",
   "language": "python",
   "name": "python3"
  },
  "language_info": {
   "codemirror_mode": {
    "name": "ipython",
    "version": 3
   },
   "file_extension": ".py",
   "mimetype": "text/x-python",
   "name": "python",
   "nbconvert_exporter": "python",
   "pygments_lexer": "ipython3",
   "version": "3.11.7"
  }
 },
 "nbformat": 4,
 "nbformat_minor": 5
}
