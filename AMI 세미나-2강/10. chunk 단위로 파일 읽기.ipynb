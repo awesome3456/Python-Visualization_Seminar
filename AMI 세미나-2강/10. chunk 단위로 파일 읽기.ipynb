{
 "cells": [
  {
   "cell_type": "code",
   "execution_count": null,
   "id": "eefd8bbe-2123-49a9-ac33-8e6998edaa28",
   "metadata": {},
   "outputs": [
    {
     "name": "stderr",
     "output_type": "stream",
     "text": [
      "IOPub data rate exceeded.\n",
      "The Jupyter server will temporarily stop sending output\n",
      "to the client in order to avoid crashing it.\n",
      "To change this limit, set the config variable\n",
      "`--ServerApp.iopub_data_rate_limit`.\n",
      "\n",
      "Current values:\n",
      "ServerApp.iopub_data_rate_limit=1000000.0 (bytes/sec)\n",
      "ServerApp.rate_limit_window=3.0 (secs)\n",
      "\n"
     ]
    }
   ],
   "source": [
    "import sys\n",
    "\n",
    "# filename = sys.argv[1]\n",
    "filename = 'ghProjectInfo2013-Feb.txt'  # 파일 이름을 직접 지정하거나 필요에 맞게 변경\n",
    "\n",
    "with open(filename, 'rb') as hugefile:\n",
    "    chunksize = 1000\n",
    "    readable = ''\n",
    "    while True:  # Use an infinite loop to continuously read from the file\n",
    "        start = hugefile.tell()\n",
    "        print(\"starting at:\", start)\n",
    "        file_block = ''  # holds chunk_size of lines\n",
    "        for _ in range(chunksize):\n",
    "            line = hugefile.readline()\n",
    "            if not line:\n",
    "                break\n",
    "            file_block = file_block + line.decode('utf-8')  # Assuming utf-8 encoding\n",
    "            print('file_block', type(file_block), file_block)\n",
    "        readable = readable + file_block\n",
    "        stop = hugefile.tell()\n",
    "        print('readable', type(readable), readable)\n",
    "        print('reading bytes from %s to %s' % (start, stop))\n",
    "        print('read bytes total:', len(readable))\n",
    "        \n",
    "        # Commented out the input() function to avoid manual intervention\n",
    "        # input()\n",
    "\n",
    "# Note: The above code will read the entire file. Modify it according to your needs.\n"
   ]
  },
  {
   "cell_type": "code",
   "execution_count": null,
   "id": "8d565e82-274c-4b53-bb74-19bee5dd98b4",
   "metadata": {},
   "outputs": [],
   "source": []
  },
  {
   "cell_type": "code",
   "execution_count": null,
   "id": "7a5a7f06-7003-41a2-acde-a371f1555970",
   "metadata": {},
   "outputs": [],
   "source": []
  }
 ],
 "metadata": {
  "kernelspec": {
   "display_name": "Python 3 (ipykernel)",
   "language": "python",
   "name": "python3"
  },
  "language_info": {
   "codemirror_mode": {
    "name": "ipython",
    "version": 3
   },
   "file_extension": ".py",
   "mimetype": "text/x-python",
   "name": "python",
   "nbconvert_exporter": "python",
   "pygments_lexer": "ipython3",
   "version": "3.11.7"
  }
 },
 "nbformat": 4,
 "nbformat_minor": 5
}
