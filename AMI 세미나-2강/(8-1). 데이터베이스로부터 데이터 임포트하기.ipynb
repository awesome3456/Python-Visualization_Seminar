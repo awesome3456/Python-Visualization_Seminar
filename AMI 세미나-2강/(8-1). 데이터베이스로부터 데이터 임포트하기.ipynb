{
 "cells": [
  {
   "cell_type": "code",
   "execution_count": 8,
   "id": "f73c48a1-02aa-4095-bcdc-31b6dab2287f",
   "metadata": {},
   "outputs": [
    {
     "ename": "SyntaxError",
     "evalue": "invalid syntax (3765835207.py, line 1)",
     "output_type": "error",
     "traceback": [
      "\u001b[1;36m  Cell \u001b[1;32mIn[8], line 1\u001b[1;36m\u001b[0m\n\u001b[1;33m    SELECT ID, Name, Population FROM City ORDER BY Population DESC LIMIT 1000\u001b[0m\n\u001b[1;37m           ^\u001b[0m\n\u001b[1;31mSyntaxError\u001b[0m\u001b[1;31m:\u001b[0m invalid syntax\n"
     ]
    }
   ],
   "source": [
    "# SELECT ID, Name, Population FROM City ORDER BY Population DESC LIMIT 1000\n",
    "\n",
    "import sqlite3\n",
    "import sys\n",
    "\n",
    "# Jupyter Notebook에서 실행 중인지 확인\n",
    "if 'ipykernel' in sys.modules:\n",
    "    # Jupyter Notebook에서는 스크립트 이름이 '-f'로 설정될 수 있음\n",
    "    script_path = 'script.sql'\n",
    "else:\n",
    "    # 일반적인 Python 스크립트 실행 시\n",
    "    if len(sys.argv) < 2:\n",
    "        print(\"Error: You must supply at least an SQL script.\")\n",
    "        print(\"Usage: python script.py table.db ./ sql-dump.sql\")\n",
    "        sys.exit(1)\n",
    "    script_path = sys.argv[1]\n",
    "\n",
    "if len(sys.argv) == 3:\n",
    "    db = sys.argv[2]\n",
    "else:\n",
    "    db = \":memory:\"\n",
    "    \n",
    "try:\n",
    "    con = sqlite3.connect(db)\n",
    "    with con:\n",
    "        cur = con.cursor()\n",
    "        with open(script_path, 'rb') as f:\n",
    "            cur.executescript(f.read())\n",
    "except sqlite3.Error as err:\n",
    "    print(\"Error occurred: %s\" % err)\n"
   ]
  },
  {
   "cell_type": "code",
   "execution_count": 2,
   "id": "bb6c28d4-52c5-4ec0-a7cc-41539f46a1f2",
   "metadata": {},
   "outputs": [
    {
     "ename": "FileNotFoundError",
     "evalue": "[Errno 2] No such file or directory: '-f'",
     "output_type": "error",
     "traceback": [
      "\u001b[1;31m---------------------------------------------------------------------------\u001b[0m",
      "\u001b[1;31mFileNotFoundError\u001b[0m                         Traceback (most recent call last)",
      "Cell \u001b[1;32mIn[2], line 22\u001b[0m\n\u001b[0;32m     20\u001b[0m     \u001b[38;5;28;01mwith\u001b[39;00m con:\n\u001b[0;32m     21\u001b[0m         cur \u001b[38;5;241m=\u001b[39m con\u001b[38;5;241m.\u001b[39mcursor()\n\u001b[1;32m---> 22\u001b[0m         \u001b[38;5;28;01mwith\u001b[39;00m \u001b[38;5;28mopen\u001b[39m(script_path, \u001b[38;5;124m'\u001b[39m\u001b[38;5;124mrb\u001b[39m\u001b[38;5;124m'\u001b[39m) \u001b[38;5;28;01mas\u001b[39;00m f:\n\u001b[0;32m     23\u001b[0m             cur\u001b[38;5;241m.\u001b[39mexecutescript(f\u001b[38;5;241m.\u001b[39mread()\u001b[38;5;241m.\u001b[39mdecode(\u001b[38;5;124m'\u001b[39m\u001b[38;5;124mutf-8\u001b[39m\u001b[38;5;124m'\u001b[39m))\n\u001b[0;32m     24\u001b[0m \u001b[38;5;28;01mexcept\u001b[39;00m sqlite3\u001b[38;5;241m.\u001b[39mError \u001b[38;5;28;01mas\u001b[39;00m err:\n",
      "File \u001b[1;32m~\\anaconda3\\Lib\\site-packages\\IPython\\core\\interactiveshell.py:310\u001b[0m, in \u001b[0;36m_modified_open\u001b[1;34m(file, *args, **kwargs)\u001b[0m\n\u001b[0;32m    303\u001b[0m \u001b[38;5;28;01mif\u001b[39;00m file \u001b[38;5;129;01min\u001b[39;00m {\u001b[38;5;241m0\u001b[39m, \u001b[38;5;241m1\u001b[39m, \u001b[38;5;241m2\u001b[39m}:\n\u001b[0;32m    304\u001b[0m     \u001b[38;5;28;01mraise\u001b[39;00m \u001b[38;5;167;01mValueError\u001b[39;00m(\n\u001b[0;32m    305\u001b[0m         \u001b[38;5;124mf\u001b[39m\u001b[38;5;124m\"\u001b[39m\u001b[38;5;124mIPython won\u001b[39m\u001b[38;5;124m'\u001b[39m\u001b[38;5;124mt let you open fd=\u001b[39m\u001b[38;5;132;01m{\u001b[39;00mfile\u001b[38;5;132;01m}\u001b[39;00m\u001b[38;5;124m by default \u001b[39m\u001b[38;5;124m\"\u001b[39m\n\u001b[0;32m    306\u001b[0m         \u001b[38;5;124m\"\u001b[39m\u001b[38;5;124mas it is likely to crash IPython. If you know what you are doing, \u001b[39m\u001b[38;5;124m\"\u001b[39m\n\u001b[0;32m    307\u001b[0m         \u001b[38;5;124m\"\u001b[39m\u001b[38;5;124myou can use builtins\u001b[39m\u001b[38;5;124m'\u001b[39m\u001b[38;5;124m open.\u001b[39m\u001b[38;5;124m\"\u001b[39m\n\u001b[0;32m    308\u001b[0m     )\n\u001b[1;32m--> 310\u001b[0m \u001b[38;5;28;01mreturn\u001b[39;00m io_open(file, \u001b[38;5;241m*\u001b[39margs, \u001b[38;5;241m*\u001b[39m\u001b[38;5;241m*\u001b[39mkwargs)\n",
      "\u001b[1;31mFileNotFoundError\u001b[0m: [Errno 2] No such file or directory: '-f'"
     ]
    }
   ],
   "source": [
    "import sqlite3\n",
    "import sys\n",
    "\n",
    "if len(sys.argv) < 2:\n",
    "    print(\"Error: You must supply at least SQL script.\")\n",
    "    print(\"Usage: %s table.db ./sql-dump.sql\" % (sys.argv[0]))\n",
    "    sys.exit(1)\n",
    "\n",
    "script_path = sys.argv[1]\n",
    "\n",
    "if len(sys.argv) == 3:\n",
    "    db = sys.argv[2]\n",
    "else:\n",
    "    # if DB is not defined \n",
    "    # create memory database\n",
    "    db = \":memory:\"\n",
    "\n",
    "try:\n",
    "    con = sqlite3.connect(db)\n",
    "    with con:\n",
    "        cur = con.cursor()\n",
    "        with open(script_path, 'rb') as f:\n",
    "            cur.executescript(f.read().decode('utf-8'))\n",
    "except sqlite3.Error as err:\n",
    "    print(\"Error occurred: %s\" % err)\n"
   ]
  },
  {
   "cell_type": "code",
   "execution_count": 3,
   "id": "766d0b44-11c3-4480-9185-b045168396c9",
   "metadata": {},
   "outputs": [
    {
     "ename": "FileNotFoundError",
     "evalue": "[Errno 2] No such file or directory: '-f'",
     "output_type": "error",
     "traceback": [
      "\u001b[1;31m---------------------------------------------------------------------------\u001b[0m",
      "\u001b[1;31mFileNotFoundError\u001b[0m                         Traceback (most recent call last)",
      "Cell \u001b[1;32mIn[3], line 24\u001b[0m\n\u001b[0;32m     22\u001b[0m     \u001b[38;5;28;01mwith\u001b[39;00m con:\n\u001b[0;32m     23\u001b[0m         cur \u001b[38;5;241m=\u001b[39m con\u001b[38;5;241m.\u001b[39mcursor()\n\u001b[1;32m---> 24\u001b[0m         \u001b[38;5;28;01mwith\u001b[39;00m \u001b[38;5;28mopen\u001b[39m(script_path, \u001b[38;5;124m'\u001b[39m\u001b[38;5;124mrb\u001b[39m\u001b[38;5;124m'\u001b[39m) \u001b[38;5;28;01mas\u001b[39;00m f:\n\u001b[0;32m     25\u001b[0m             cur\u001b[38;5;241m.\u001b[39mexecutescript(f\u001b[38;5;241m.\u001b[39mread()\u001b[38;5;241m.\u001b[39mdecode(\u001b[38;5;124m'\u001b[39m\u001b[38;5;124mutf-8\u001b[39m\u001b[38;5;124m'\u001b[39m))\n\u001b[0;32m     26\u001b[0m \u001b[38;5;28;01mexcept\u001b[39;00m sqlite3\u001b[38;5;241m.\u001b[39mError \u001b[38;5;28;01mas\u001b[39;00m err:\n",
      "File \u001b[1;32m~\\anaconda3\\Lib\\site-packages\\IPython\\core\\interactiveshell.py:310\u001b[0m, in \u001b[0;36m_modified_open\u001b[1;34m(file, *args, **kwargs)\u001b[0m\n\u001b[0;32m    303\u001b[0m \u001b[38;5;28;01mif\u001b[39;00m file \u001b[38;5;129;01min\u001b[39;00m {\u001b[38;5;241m0\u001b[39m, \u001b[38;5;241m1\u001b[39m, \u001b[38;5;241m2\u001b[39m}:\n\u001b[0;32m    304\u001b[0m     \u001b[38;5;28;01mraise\u001b[39;00m \u001b[38;5;167;01mValueError\u001b[39;00m(\n\u001b[0;32m    305\u001b[0m         \u001b[38;5;124mf\u001b[39m\u001b[38;5;124m\"\u001b[39m\u001b[38;5;124mIPython won\u001b[39m\u001b[38;5;124m'\u001b[39m\u001b[38;5;124mt let you open fd=\u001b[39m\u001b[38;5;132;01m{\u001b[39;00mfile\u001b[38;5;132;01m}\u001b[39;00m\u001b[38;5;124m by default \u001b[39m\u001b[38;5;124m\"\u001b[39m\n\u001b[0;32m    306\u001b[0m         \u001b[38;5;124m\"\u001b[39m\u001b[38;5;124mas it is likely to crash IPython. If you know what you are doing, \u001b[39m\u001b[38;5;124m\"\u001b[39m\n\u001b[0;32m    307\u001b[0m         \u001b[38;5;124m\"\u001b[39m\u001b[38;5;124myou can use builtins\u001b[39m\u001b[38;5;124m'\u001b[39m\u001b[38;5;124m open.\u001b[39m\u001b[38;5;124m\"\u001b[39m\n\u001b[0;32m    308\u001b[0m     )\n\u001b[1;32m--> 310\u001b[0m \u001b[38;5;28;01mreturn\u001b[39;00m io_open(file, \u001b[38;5;241m*\u001b[39margs, \u001b[38;5;241m*\u001b[39m\u001b[38;5;241m*\u001b[39mkwargs)\n",
      "\u001b[1;31mFileNotFoundError\u001b[0m: [Errno 2] No such file or directory: '-f'"
     ]
    }
   ],
   "source": [
    "import sqlite3\n",
    "import sys\n",
    "\n",
    "# Remove the first element which is the script name\n",
    "args = sys.argv[1:]\n",
    "\n",
    "if len(args) < 1:\n",
    "    print(\"Error: You must supply at least SQL script.\")\n",
    "    print(\"Usage: %s ./sql-dump.sql [table.db]\" % sys.argv[0])\n",
    "    sys.exit(1)\n",
    "\n",
    "script_path = args[0]\n",
    "\n",
    "if len(args) == 2:\n",
    "    db = args[1]\n",
    "else:\n",
    "    # if DB is not defined, create a memory database\n",
    "    db = \":memory:\"\n",
    "\n",
    "try:\n",
    "    con = sqlite3.connect(db)\n",
    "    with con:\n",
    "        cur = con.cursor()\n",
    "        with open(script_path, 'rb') as f:\n",
    "            cur.executescript(f.read().decode('utf-8'))\n",
    "except sqlite3.Error as err:\n",
    "    print(\"Error occurred: %s\" % err)\n",
    "\n"
   ]
  },
  {
   "cell_type": "code",
   "execution_count": 5,
   "id": "4a2623a9-cbb9-49db-8102-b850cfb52abe",
   "metadata": {},
   "outputs": [
    {
     "name": "stdout",
     "output_type": "stream",
     "text": [
      "Error occurred: unrecognized token: \"{\"\n"
     ]
    }
   ],
   "source": [
    "import sqlite3\n",
    "import sys\n",
    "\n",
    "# Remove the Jupyter-specific options\n",
    "args = [arg for arg in sys.argv[1:] if not arg.startswith(\"-\")]\n",
    "\n",
    "if len(args) < 1:\n",
    "    print(\"Error: You must supply at least SQL script.\")\n",
    "    print(\"Usage: %s ./sql-dump.sql [table.db]\" % sys.argv[0])\n",
    "    sys.exit(1)\n",
    "\n",
    "script_path = args[0]\n",
    "\n",
    "if len(args) == 2:\n",
    "    db = args[1]\n",
    "else:\n",
    "    # if DB is not defined, create a memory database\n",
    "    db = \":memory:\"\n",
    "\n",
    "try:\n",
    "    con = sqlite3.connect(db)\n",
    "    with con:\n",
    "        cur = con.cursor()\n",
    "        with open(script_path, 'rb') as f:\n",
    "            cur.executescript(f.read().decode('utf-8'))\n",
    "except sqlite3.Error as err:\n",
    "    print(\"Error occurred: %s\" % err)\n",
    "\n"
   ]
  },
  {
   "cell_type": "code",
   "execution_count": null,
   "id": "a200b506-8b77-4bba-925d-a8d650b06da3",
   "metadata": {},
   "outputs": [],
   "source": []
  }
 ],
 "metadata": {
  "kernelspec": {
   "display_name": "Python 3 (ipykernel)",
   "language": "python",
   "name": "python3"
  },
  "language_info": {
   "codemirror_mode": {
    "name": "ipython",
    "version": 3
   },
   "file_extension": ".py",
   "mimetype": "text/x-python",
   "name": "python",
   "nbconvert_exporter": "python",
   "pygments_lexer": "ipython3",
   "version": "3.11.7"
  }
 },
 "nbformat": 4,
 "nbformat_minor": 5
}
