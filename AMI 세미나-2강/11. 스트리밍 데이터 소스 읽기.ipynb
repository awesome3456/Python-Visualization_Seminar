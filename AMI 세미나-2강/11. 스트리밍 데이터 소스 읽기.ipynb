{
 "cells": [
  {
   "cell_type": "code",
   "execution_count": null,
   "id": "4162f6a2-7095-4b90-80d8-a1bcc2df94b4",
   "metadata": {},
   "outputs": [],
   "source": [
    "import time\n",
    "import os\n",
    "\n",
    "filename = 'ghProjectInfo2013-Feb.txt'  # Replace 'your_filename_here.txt' with the actual filename\n",
    "\n",
    "if not os.path.isfile(filename):\n",
    "    print(\"Given file: \\\"%s\\\" is not a file\" % filename, file=sys.stderr)\n",
    "    sys.exit(1)\n",
    "\n",
    "with open(filename, 'r') as file:\n",
    "    # Move to the end of file\n",
    "    filesize = os.stat(filename).st_size\n",
    "    file.seek(filesize)\n",
    "\n",
    "    # endlessly loop\n",
    "    while True:\n",
    "        where = file.tell()\n",
    "        # try reading a line\n",
    "        line = file.readline()\n",
    "        # if empty, go back\n",
    "        if not line:\n",
    "            time.sleep(1)\n",
    "            file.seek(where)\n",
    "        else:\n",
    "            # , at the end prevents print to add newline, as readline()\n",
    "            # already read that.\n",
    "            print(line, end=\"\")\n"
   ]
  },
  {
   "cell_type": "code",
   "execution_count": null,
   "id": "5083500b-9285-428c-88d2-4fcfca58410c",
   "metadata": {},
   "outputs": [],
   "source": []
  }
 ],
 "metadata": {
  "kernelspec": {
   "display_name": "Python 3 (ipykernel)",
   "language": "python",
   "name": "python3"
  },
  "language_info": {
   "codemirror_mode": {
    "name": "ipython",
    "version": 3
   },
   "file_extension": ".py",
   "mimetype": "text/x-python",
   "name": "python",
   "nbconvert_exporter": "python",
   "pygments_lexer": "ipython3",
   "version": "3.11.7"
  }
 },
 "nbformat": 4,
 "nbformat_minor": 5
}
