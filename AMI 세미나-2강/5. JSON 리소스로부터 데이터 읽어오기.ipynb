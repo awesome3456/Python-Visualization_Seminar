{
 "cells": [
  {
   "cell_type": "code",
   "execution_count": 1,
   "id": "5dbb9916-5a9e-4344-9358-db113b9e6934",
   "metadata": {},
   "outputs": [
    {
     "name": "stdout",
     "output_type": "stream",
     "text": [
      "{'avatar_url': 'https://avatars.githubusercontent.com/u/4929177?v=4',\n",
      " 'bio': 'Sr Data Scientist, teaching fellow, Python enthusiast, fearless '\n",
      "        'visionarist, lateral thinker.',\n",
      " 'blog': 'http://glowingpython.blogspot.com/',\n",
      " 'company': None,\n",
      " 'created_at': '2013-07-03T10:07:22Z',\n",
      " 'email': None,\n",
      " 'events_url': 'https://api.github.com/users/JustGlowing/events{/privacy}',\n",
      " 'followers': 113,\n",
      " 'followers_url': 'https://api.github.com/users/JustGlowing/followers',\n",
      " 'following': 6,\n",
      " 'following_url': 'https://api.github.com/users/JustGlowing/following{/other_user}',\n",
      " 'gists_url': 'https://api.github.com/users/JustGlowing/gists{/gist_id}',\n",
      " 'gravatar_id': '',\n",
      " 'hireable': None,\n",
      " 'html_url': 'https://github.com/JustGlowing',\n",
      " 'id': 4929177,\n",
      " 'location': 'Cambridge, UK',\n",
      " 'login': 'JustGlowing',\n",
      " 'name': 'Giuseppe Vettigli',\n",
      " 'node_id': 'MDQ6VXNlcjQ5MjkxNzc=',\n",
      " 'organizations_url': 'https://api.github.com/users/JustGlowing/orgs',\n",
      " 'public_gists': 7,\n",
      " 'public_repos': 15,\n",
      " 'received_events_url': 'https://api.github.com/users/JustGlowing/received_events',\n",
      " 'repos_url': 'https://api.github.com/users/JustGlowing/repos',\n",
      " 'site_admin': False,\n",
      " 'starred_url': 'https://api.github.com/users/JustGlowing/starred{/owner}{/repo}',\n",
      " 'subscriptions_url': 'https://api.github.com/users/JustGlowing/subscriptions',\n",
      " 'twitter_username': None,\n",
      " 'type': 'User',\n",
      " 'updated_at': '2024-02-28T13:11:28Z',\n",
      " 'url': 'https://api.github.com/users/JustGlowing'}\n"
     ]
    }
   ],
   "source": [
    "# JSON 리소스로부터 데이터 읽어오기\n",
    "\n",
    "import requests\n",
    "from pprint import pprint\n",
    "\n",
    "url = 'http://api.github.com/users/justglowing'\n",
    "r = requests.get(url)\n",
    "json_obj = r.json()\n",
    "pprint(json_obj)"
   ]
  }
 ],
 "metadata": {
  "kernelspec": {
   "display_name": "Python 3 (ipykernel)",
   "language": "python",
   "name": "python3"
  },
  "language_info": {
   "codemirror_mode": {
    "name": "ipython",
    "version": 3
   },
   "file_extension": ".py",
   "mimetype": "text/x-python",
   "name": "python",
   "nbconvert_exporter": "python",
   "pygments_lexer": "ipython3",
   "version": "3.11.7"
  }
 },
 "nbformat": 4,
 "nbformat_minor": 5
}
