{
 "cells": [
  {
   "cell_type": "code",
   "execution_count": 3,
   "id": "046f8f77-b42a-4468-a0ac-56bcd31938a7",
   "metadata": {},
   "outputs": [
    {
     "name": "stdout",
     "output_type": "stream",
     "text": [
      "['day', 'ammount']\n",
      "=====================\n",
      "['2013-01-24', '323']\n",
      "['2013-01-25', '233']\n",
      "['2013-01-26', '433']\n",
      "['2013-01-27', '555']\n",
      "['2013-01-28', '123']\n",
      "['2013-01-29', '0']\n",
      "['2013-01-30', '221']\n"
     ]
    }
   ],
   "source": [
    "import csv\n",
    "\n",
    "filename = 'ch02-data.csv'\n",
    "\n",
    "data = []\n",
    "\n",
    "try:\n",
    "    with open(filename) as f:\n",
    "        reader = csv.reader(f)\n",
    "        header = next(reader)\n",
    "        data = [row for row in reader]\n",
    "except csv.Error as e:\n",
    "    print(\"Error reading CSV file at line %s: %s\" % (reader.line_num, e))\n",
    "    sys.exit(-1)\n",
    "\n",
    "if header:\n",
    "    print(header)\n",
    "    print('=====================')\n",
    "\n",
    "for datarow in data:\n",
    "    print(datarow)\n"
   ]
  }
 ],
 "metadata": {
  "kernelspec": {
   "display_name": "Python 3 (ipykernel)",
   "language": "python",
   "name": "python3"
  },
  "language_info": {
   "codemirror_mode": {
    "name": "ipython",
    "version": 3
   },
   "file_extension": ".py",
   "mimetype": "text/x-python",
   "name": "python",
   "nbconvert_exporter": "python",
   "pygments_lexer": "ipython3",
   "version": "3.11.7"
  }
 },
 "nbformat": 4,
 "nbformat_minor": 5
}
