{
 "cells": [
  {
   "cell_type": "code",
   "execution_count": 1,
   "id": "770f7a1e-c2c5-499a-9fd7-b405dc863897",
   "metadata": {},
   "outputs": [
    {
     "ename": "SyntaxError",
     "evalue": "Missing parentheses in call to 'print'. Did you mean print(...)? (1662073675.py, line 5)",
     "output_type": "error",
     "traceback": [
      "\u001b[1;36m  Cell \u001b[1;32mIn[1], line 5\u001b[1;36m\u001b[0m\n\u001b[1;33m    print \"Please specify database file.\"\u001b[0m\n\u001b[1;37m    ^\u001b[0m\n\u001b[1;31mSyntaxError\u001b[0m\u001b[1;31m:\u001b[0m Missing parentheses in call to 'print'. Did you mean print(...)?\n"
     ]
    }
   ],
   "source": [
    "import sqlite3\n",
    "import sys\n",
    "\n",
    "if len(sys.argv) != 2:\n",
    "    print \"Please specify database file.\"\n",
    "    sys.exit(1)\n",
    "\n",
    "db = sys.argv[1]\n",
    "\n",
    "try:\n",
    "    con = sqlite3.connect(db)\n",
    "    with con:\n",
    "        cur = con.cursor()\n",
    "        query = 'SELECT ID, Name, Population FROM City ORDER BY Population DESC LIMIT 1000'\n",
    "\n",
    "        con.text_factory = str\n",
    "        cur.execute(query)\n",
    "\n",
    "        resultset = cur.fetchall()\n",
    "\n",
    "        # extract column names\n",
    "\n",
    "        col_names = [cn[0] for cn in cur.description] \n",
    "        print \"%10s %30s %10s\" % tuple(col_names)\n",
    "        print \"=\"*(10+1+30+1+10)\n",
    "\n",
    "        for row in resultset:\n",
    "            print \"%10s %30s %10s\" % row\n",
    "except sqlite3.Error as err:\n",
    "    print \"[ERROR]:\", err"
   ]
  },
  {
   "cell_type": "code",
   "execution_count": null,
   "id": "3e55dfe1-f41e-4547-bc10-1b89d9425e60",
   "metadata": {},
   "outputs": [],
   "source": []
  }
 ],
 "metadata": {
  "kernelspec": {
   "display_name": "Python 3 (ipykernel)",
   "language": "python",
   "name": "python3"
  },
  "language_info": {
   "codemirror_mode": {
    "name": "ipython",
    "version": 3
   },
   "file_extension": ".py",
   "mimetype": "text/x-python",
   "name": "python",
   "nbconvert_exporter": "python",
   "pygments_lexer": "ipython3",
   "version": "3.11.7"
  }
 },
 "nbformat": 4,
 "nbformat_minor": 5
}
