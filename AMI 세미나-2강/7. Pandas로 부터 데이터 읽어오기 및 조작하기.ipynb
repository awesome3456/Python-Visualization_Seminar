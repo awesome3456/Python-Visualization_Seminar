{
 "cells": [
  {
   "cell_type": "code",
   "execution_count": 3,
   "id": "40532c4b-9f74-423d-a008-c8d7f5cb7dd9",
   "metadata": {},
   "outputs": [
    {
     "name": "stdout",
     "output_type": "stream",
     "text": [
      "Requirement already satisfied: pandas in c:\\users\\aweso\\anaconda3\\lib\\site-packages (2.1.4)\n",
      "Requirement already satisfied: numpy<2,>=1.23.2 in c:\\users\\aweso\\anaconda3\\lib\\site-packages (from pandas) (1.26.4)\n",
      "Requirement already satisfied: python-dateutil>=2.8.2 in c:\\users\\aweso\\anaconda3\\lib\\site-packages (from pandas) (2.8.2)\n",
      "Requirement already satisfied: pytz>=2020.1 in c:\\users\\aweso\\anaconda3\\lib\\site-packages (from pandas) (2023.3.post1)\n",
      "Requirement already satisfied: tzdata>=2022.1 in c:\\users\\aweso\\anaconda3\\lib\\site-packages (from pandas) (2023.3)\n",
      "Requirement already satisfied: six>=1.5 in c:\\users\\aweso\\anaconda3\\lib\\site-packages (from python-dateutil>=2.8.2->pandas) (1.16.0)\n",
      "Note: you may need to restart the kernel to use updated packages.\n"
     ]
    }
   ],
   "source": [
    "pip install pandas"
   ]
  },
  {
   "cell_type": "code",
   "execution_count": 5,
   "id": "8a152854-b8ae-4451-8d8c-f275a7811ca2",
   "metadata": {},
   "outputs": [],
   "source": [
    "import pandas as pd\n",
    "\n",
    "# 'ch02-data.csv' 파일을 읽어옵니다.\n",
    "data = pd.read_csv('ch02-data.csv')\n",
    "\n",
    "# 데이터프레임에 'amount' 열이 존재하는지 확인\n",
    "if 'ammount' in data.columns:\n",
    "    # 'amount' 열이 존재하면 'amount_x_2' 열을 추가\n",
    "    data['ammount_x_2'] = data['ammount'] * 2\n",
    "\n",
    "    # 수정된 데이터프레임을 CSV 파일로 저장\n",
    "    data.to_csv('ch02-data_more.csv', index=False)\n",
    "else:\n",
    "    print(\"'amount' 열이 데이터프레임에 존재하지 않습니다.\")"
   ]
  },
  {
   "cell_type": "code",
   "execution_count": null,
   "id": "31b5839c-f91b-4554-8416-633968d83e66",
   "metadata": {},
   "outputs": [],
   "source": []
  }
 ],
 "metadata": {
  "kernelspec": {
   "display_name": "Python 3 (ipykernel)",
   "language": "python",
   "name": "python3"
  },
  "language_info": {
   "codemirror_mode": {
    "name": "ipython",
    "version": 3
   },
   "file_extension": ".py",
   "mimetype": "text/x-python",
   "name": "python",
   "nbconvert_exporter": "python",
   "pygments_lexer": "ipython3",
   "version": "3.11.7"
  }
 },
 "nbformat": 4,
 "nbformat_minor": 5
}
